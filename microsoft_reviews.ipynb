{
 "cells": [
  {
   "cell_type": "markdown",
   "id": "ea7d05c9",
   "metadata": {},
   "source": [
    "## Employee Reviews da Microsoft \n",
    "### Objetivo:\n",
    "Desenvolver um sistema que analisa avaliações de funcionários da Microsoft, processa os textos e classifica automaticamente cada review como positivo ou negativo, com base no conteúdo textual."
   ]
  },
  {
   "cell_type": "code",
   "execution_count": 1,
   "id": "42d1c26c",
   "metadata": {},
   "outputs": [],
   "source": [
    "import nltk\n",
    "from nltk.corpus import stopwords\n",
    "from nltk.tokenize import word_tokenize\n",
    "import string"
   ]
  },
  {
   "cell_type": "markdown",
   "id": "8a363e82",
   "metadata": {},
   "source": [
    "### Coleta e Organização dos Dados"
   ]
  },
  {
   "cell_type": "code",
   "execution_count": 2,
   "id": "0e2d0941",
   "metadata": {},
   "outputs": [
    {
     "data": {
      "text/plain": [
       "Index(['Unnamed: 0', 'company', 'location', 'dates', 'job-title', 'summary',\n",
       "       'pros', 'cons', 'advice-to-mgmt', 'overall-ratings',\n",
       "       'work-balance-stars', 'culture-values-stars',\n",
       "       'carrer-opportunities-stars', 'comp-benefit-stars',\n",
       "       'senior-mangemnet-stars', 'helpful-count', 'link'],\n",
       "      dtype='object')"
      ]
     },
     "execution_count": 2,
     "metadata": {},
     "output_type": "execute_result"
    }
   ],
   "source": [
    "#Importando e filtrando pra puxar somente os dados da Microsoft\n",
    "\n",
    "import pandas as pd\n",
    "\n",
    "df = pd.read_csv(\"employee_reviews.csv\")\n",
    "\n",
    "# Filtrando as avaliações da Microsoft\n",
    "df = df[df['company'].str.lower() == 'microsoft'].reset_index(drop=True)\n",
    "\n",
    "df.columns\n"
   ]
  },
  {
   "cell_type": "markdown",
   "id": "a76da689",
   "metadata": {},
   "source": [
    "### Pré-processamento de Texto"
   ]
  },
  {
   "cell_type": "code",
   "execution_count": 3,
   "id": "0fca8479",
   "metadata": {},
   "outputs": [
    {
     "name": "stdout",
     "output_type": "stream",
     "text": [
      "                                                pros  \\\n",
      "0  Culture, role impact, mission driven, collabor...   \n",
      "1  1. If you love tech, this is a great place. No...   \n",
      "2                     Great company and Great people   \n",
      "3  Benefits, work-life balance, tons of internal ...   \n",
      "4  Smart people, work life balance, growth mindse...   \n",
      "\n",
      "                                                cons  \\\n",
      "0          Volume of work is sometimes unmanageable,   \n",
      "1  Brand on Your Resume: After many years of losi...   \n",
      "2                         I see no cons at this time   \n",
      "3                       Can't think of any right now   \n",
      "4                 Can be hard to transfer internally   \n",
      "\n",
      "                                                text  \n",
      "0  Culture, role impact, mission driven, collabor...  \n",
      "1  1. If you love tech, this is a great place. No...  \n",
      "2  Great company and Great people I see no cons a...  \n",
      "3  Benefits, work-life balance, tons of internal ...  \n",
      "4  Smart people, work life balance, growth mindse...  \n"
     ]
    }
   ],
   "source": [
    "from nltk.corpus import stopwords\n",
    "from nltk.tokenize import word_tokenize\n",
    "\n",
    "# 1. Criar coluna 'text'\n",
    "df['text'] = df['pros'].fillna('') + ' ' + df['cons'].fillna('')\n",
    "\n",
    "# 2. Verificar se 'text' foi criada corretamente\n",
    "print(df[['pros', 'cons', 'text']].head())\n",
    "\n",
    "stop_words = set(stopwords.words('english'))\n",
    "\n",
    "def preprocess(text):\n",
    "    text = text.lower()\n",
    "    text = text.translate(str.maketrans('', '', string.punctuation))\n",
    "    tokens = word_tokenize(text)\n",
    "    tokens = [word for word in tokens if word not in stop_words]\n",
    "    return ' '.join(tokens)\n",
    "\n",
    "df['clean_text'] = df['text'].apply(preprocess)\n"
   ]
  },
  {
   "cell_type": "markdown",
   "id": "9e16560c",
   "metadata": {},
   "source": [
    "### Criação dos Rótulos (Positivo/Negativo)"
   ]
  },
  {
   "cell_type": "code",
   "execution_count": 4,
   "id": "0223ed5c",
   "metadata": {},
   "outputs": [],
   "source": [
    "# Rótulo binário: 1 = positivo (rating >= 4), 0 = negativo (rating <= 2)\n",
    "df = df[df['overall-ratings'].isin([1.0, 2.0, 4.0, 5.0])]\n",
    "df['label'] = df['overall-ratings'].apply(lambda x: 1 if x >= 4 else 0)\n"
   ]
  },
  {
   "cell_type": "markdown",
   "id": "b7dce2ea",
   "metadata": {},
   "source": [
    "### Extração de Features"
   ]
  },
  {
   "cell_type": "code",
   "execution_count": 5,
   "id": "c48f9aa2",
   "metadata": {},
   "outputs": [
    {
     "data": {
      "text/html": [
       "<style>#sk-container-id-1 {\n",
       "  /* Definition of color scheme common for light and dark mode */\n",
       "  --sklearn-color-text: #000;\n",
       "  --sklearn-color-text-muted: #666;\n",
       "  --sklearn-color-line: gray;\n",
       "  /* Definition of color scheme for unfitted estimators */\n",
       "  --sklearn-color-unfitted-level-0: #fff5e6;\n",
       "  --sklearn-color-unfitted-level-1: #f6e4d2;\n",
       "  --sklearn-color-unfitted-level-2: #ffe0b3;\n",
       "  --sklearn-color-unfitted-level-3: chocolate;\n",
       "  /* Definition of color scheme for fitted estimators */\n",
       "  --sklearn-color-fitted-level-0: #f0f8ff;\n",
       "  --sklearn-color-fitted-level-1: #d4ebff;\n",
       "  --sklearn-color-fitted-level-2: #b3dbfd;\n",
       "  --sklearn-color-fitted-level-3: cornflowerblue;\n",
       "\n",
       "  /* Specific color for light theme */\n",
       "  --sklearn-color-text-on-default-background: var(--sg-text-color, var(--theme-code-foreground, var(--jp-content-font-color1, black)));\n",
       "  --sklearn-color-background: var(--sg-background-color, var(--theme-background, var(--jp-layout-color0, white)));\n",
       "  --sklearn-color-border-box: var(--sg-text-color, var(--theme-code-foreground, var(--jp-content-font-color1, black)));\n",
       "  --sklearn-color-icon: #696969;\n",
       "\n",
       "  @media (prefers-color-scheme: dark) {\n",
       "    /* Redefinition of color scheme for dark theme */\n",
       "    --sklearn-color-text-on-default-background: var(--sg-text-color, var(--theme-code-foreground, var(--jp-content-font-color1, white)));\n",
       "    --sklearn-color-background: var(--sg-background-color, var(--theme-background, var(--jp-layout-color0, #111)));\n",
       "    --sklearn-color-border-box: var(--sg-text-color, var(--theme-code-foreground, var(--jp-content-font-color1, white)));\n",
       "    --sklearn-color-icon: #878787;\n",
       "  }\n",
       "}\n",
       "\n",
       "#sk-container-id-1 {\n",
       "  color: var(--sklearn-color-text);\n",
       "}\n",
       "\n",
       "#sk-container-id-1 pre {\n",
       "  padding: 0;\n",
       "}\n",
       "\n",
       "#sk-container-id-1 input.sk-hidden--visually {\n",
       "  border: 0;\n",
       "  clip: rect(1px 1px 1px 1px);\n",
       "  clip: rect(1px, 1px, 1px, 1px);\n",
       "  height: 1px;\n",
       "  margin: -1px;\n",
       "  overflow: hidden;\n",
       "  padding: 0;\n",
       "  position: absolute;\n",
       "  width: 1px;\n",
       "}\n",
       "\n",
       "#sk-container-id-1 div.sk-dashed-wrapped {\n",
       "  border: 1px dashed var(--sklearn-color-line);\n",
       "  margin: 0 0.4em 0.5em 0.4em;\n",
       "  box-sizing: border-box;\n",
       "  padding-bottom: 0.4em;\n",
       "  background-color: var(--sklearn-color-background);\n",
       "}\n",
       "\n",
       "#sk-container-id-1 div.sk-container {\n",
       "  /* jupyter's `normalize.less` sets `[hidden] { display: none; }`\n",
       "     but bootstrap.min.css set `[hidden] { display: none !important; }`\n",
       "     so we also need the `!important` here to be able to override the\n",
       "     default hidden behavior on the sphinx rendered scikit-learn.org.\n",
       "     See: https://github.com/scikit-learn/scikit-learn/issues/21755 */\n",
       "  display: inline-block !important;\n",
       "  position: relative;\n",
       "}\n",
       "\n",
       "#sk-container-id-1 div.sk-text-repr-fallback {\n",
       "  display: none;\n",
       "}\n",
       "\n",
       "div.sk-parallel-item,\n",
       "div.sk-serial,\n",
       "div.sk-item {\n",
       "  /* draw centered vertical line to link estimators */\n",
       "  background-image: linear-gradient(var(--sklearn-color-text-on-default-background), var(--sklearn-color-text-on-default-background));\n",
       "  background-size: 2px 100%;\n",
       "  background-repeat: no-repeat;\n",
       "  background-position: center center;\n",
       "}\n",
       "\n",
       "/* Parallel-specific style estimator block */\n",
       "\n",
       "#sk-container-id-1 div.sk-parallel-item::after {\n",
       "  content: \"\";\n",
       "  width: 100%;\n",
       "  border-bottom: 2px solid var(--sklearn-color-text-on-default-background);\n",
       "  flex-grow: 1;\n",
       "}\n",
       "\n",
       "#sk-container-id-1 div.sk-parallel {\n",
       "  display: flex;\n",
       "  align-items: stretch;\n",
       "  justify-content: center;\n",
       "  background-color: var(--sklearn-color-background);\n",
       "  position: relative;\n",
       "}\n",
       "\n",
       "#sk-container-id-1 div.sk-parallel-item {\n",
       "  display: flex;\n",
       "  flex-direction: column;\n",
       "}\n",
       "\n",
       "#sk-container-id-1 div.sk-parallel-item:first-child::after {\n",
       "  align-self: flex-end;\n",
       "  width: 50%;\n",
       "}\n",
       "\n",
       "#sk-container-id-1 div.sk-parallel-item:last-child::after {\n",
       "  align-self: flex-start;\n",
       "  width: 50%;\n",
       "}\n",
       "\n",
       "#sk-container-id-1 div.sk-parallel-item:only-child::after {\n",
       "  width: 0;\n",
       "}\n",
       "\n",
       "/* Serial-specific style estimator block */\n",
       "\n",
       "#sk-container-id-1 div.sk-serial {\n",
       "  display: flex;\n",
       "  flex-direction: column;\n",
       "  align-items: center;\n",
       "  background-color: var(--sklearn-color-background);\n",
       "  padding-right: 1em;\n",
       "  padding-left: 1em;\n",
       "}\n",
       "\n",
       "\n",
       "/* Toggleable style: style used for estimator/Pipeline/ColumnTransformer box that is\n",
       "clickable and can be expanded/collapsed.\n",
       "- Pipeline and ColumnTransformer use this feature and define the default style\n",
       "- Estimators will overwrite some part of the style using the `sk-estimator` class\n",
       "*/\n",
       "\n",
       "/* Pipeline and ColumnTransformer style (default) */\n",
       "\n",
       "#sk-container-id-1 div.sk-toggleable {\n",
       "  /* Default theme specific background. It is overwritten whether we have a\n",
       "  specific estimator or a Pipeline/ColumnTransformer */\n",
       "  background-color: var(--sklearn-color-background);\n",
       "}\n",
       "\n",
       "/* Toggleable label */\n",
       "#sk-container-id-1 label.sk-toggleable__label {\n",
       "  cursor: pointer;\n",
       "  display: flex;\n",
       "  width: 100%;\n",
       "  margin-bottom: 0;\n",
       "  padding: 0.5em;\n",
       "  box-sizing: border-box;\n",
       "  text-align: center;\n",
       "  align-items: start;\n",
       "  justify-content: space-between;\n",
       "  gap: 0.5em;\n",
       "}\n",
       "\n",
       "#sk-container-id-1 label.sk-toggleable__label .caption {\n",
       "  font-size: 0.6rem;\n",
       "  font-weight: lighter;\n",
       "  color: var(--sklearn-color-text-muted);\n",
       "}\n",
       "\n",
       "#sk-container-id-1 label.sk-toggleable__label-arrow:before {\n",
       "  /* Arrow on the left of the label */\n",
       "  content: \"▸\";\n",
       "  float: left;\n",
       "  margin-right: 0.25em;\n",
       "  color: var(--sklearn-color-icon);\n",
       "}\n",
       "\n",
       "#sk-container-id-1 label.sk-toggleable__label-arrow:hover:before {\n",
       "  color: var(--sklearn-color-text);\n",
       "}\n",
       "\n",
       "/* Toggleable content - dropdown */\n",
       "\n",
       "#sk-container-id-1 div.sk-toggleable__content {\n",
       "  max-height: 0;\n",
       "  max-width: 0;\n",
       "  overflow: hidden;\n",
       "  text-align: left;\n",
       "  /* unfitted */\n",
       "  background-color: var(--sklearn-color-unfitted-level-0);\n",
       "}\n",
       "\n",
       "#sk-container-id-1 div.sk-toggleable__content.fitted {\n",
       "  /* fitted */\n",
       "  background-color: var(--sklearn-color-fitted-level-0);\n",
       "}\n",
       "\n",
       "#sk-container-id-1 div.sk-toggleable__content pre {\n",
       "  margin: 0.2em;\n",
       "  border-radius: 0.25em;\n",
       "  color: var(--sklearn-color-text);\n",
       "  /* unfitted */\n",
       "  background-color: var(--sklearn-color-unfitted-level-0);\n",
       "}\n",
       "\n",
       "#sk-container-id-1 div.sk-toggleable__content.fitted pre {\n",
       "  /* unfitted */\n",
       "  background-color: var(--sklearn-color-fitted-level-0);\n",
       "}\n",
       "\n",
       "#sk-container-id-1 input.sk-toggleable__control:checked~div.sk-toggleable__content {\n",
       "  /* Expand drop-down */\n",
       "  max-height: 200px;\n",
       "  max-width: 100%;\n",
       "  overflow: auto;\n",
       "}\n",
       "\n",
       "#sk-container-id-1 input.sk-toggleable__control:checked~label.sk-toggleable__label-arrow:before {\n",
       "  content: \"▾\";\n",
       "}\n",
       "\n",
       "/* Pipeline/ColumnTransformer-specific style */\n",
       "\n",
       "#sk-container-id-1 div.sk-label input.sk-toggleable__control:checked~label.sk-toggleable__label {\n",
       "  color: var(--sklearn-color-text);\n",
       "  background-color: var(--sklearn-color-unfitted-level-2);\n",
       "}\n",
       "\n",
       "#sk-container-id-1 div.sk-label.fitted input.sk-toggleable__control:checked~label.sk-toggleable__label {\n",
       "  background-color: var(--sklearn-color-fitted-level-2);\n",
       "}\n",
       "\n",
       "/* Estimator-specific style */\n",
       "\n",
       "/* Colorize estimator box */\n",
       "#sk-container-id-1 div.sk-estimator input.sk-toggleable__control:checked~label.sk-toggleable__label {\n",
       "  /* unfitted */\n",
       "  background-color: var(--sklearn-color-unfitted-level-2);\n",
       "}\n",
       "\n",
       "#sk-container-id-1 div.sk-estimator.fitted input.sk-toggleable__control:checked~label.sk-toggleable__label {\n",
       "  /* fitted */\n",
       "  background-color: var(--sklearn-color-fitted-level-2);\n",
       "}\n",
       "\n",
       "#sk-container-id-1 div.sk-label label.sk-toggleable__label,\n",
       "#sk-container-id-1 div.sk-label label {\n",
       "  /* The background is the default theme color */\n",
       "  color: var(--sklearn-color-text-on-default-background);\n",
       "}\n",
       "\n",
       "/* On hover, darken the color of the background */\n",
       "#sk-container-id-1 div.sk-label:hover label.sk-toggleable__label {\n",
       "  color: var(--sklearn-color-text);\n",
       "  background-color: var(--sklearn-color-unfitted-level-2);\n",
       "}\n",
       "\n",
       "/* Label box, darken color on hover, fitted */\n",
       "#sk-container-id-1 div.sk-label.fitted:hover label.sk-toggleable__label.fitted {\n",
       "  color: var(--sklearn-color-text);\n",
       "  background-color: var(--sklearn-color-fitted-level-2);\n",
       "}\n",
       "\n",
       "/* Estimator label */\n",
       "\n",
       "#sk-container-id-1 div.sk-label label {\n",
       "  font-family: monospace;\n",
       "  font-weight: bold;\n",
       "  display: inline-block;\n",
       "  line-height: 1.2em;\n",
       "}\n",
       "\n",
       "#sk-container-id-1 div.sk-label-container {\n",
       "  text-align: center;\n",
       "}\n",
       "\n",
       "/* Estimator-specific */\n",
       "#sk-container-id-1 div.sk-estimator {\n",
       "  font-family: monospace;\n",
       "  border: 1px dotted var(--sklearn-color-border-box);\n",
       "  border-radius: 0.25em;\n",
       "  box-sizing: border-box;\n",
       "  margin-bottom: 0.5em;\n",
       "  /* unfitted */\n",
       "  background-color: var(--sklearn-color-unfitted-level-0);\n",
       "}\n",
       "\n",
       "#sk-container-id-1 div.sk-estimator.fitted {\n",
       "  /* fitted */\n",
       "  background-color: var(--sklearn-color-fitted-level-0);\n",
       "}\n",
       "\n",
       "/* on hover */\n",
       "#sk-container-id-1 div.sk-estimator:hover {\n",
       "  /* unfitted */\n",
       "  background-color: var(--sklearn-color-unfitted-level-2);\n",
       "}\n",
       "\n",
       "#sk-container-id-1 div.sk-estimator.fitted:hover {\n",
       "  /* fitted */\n",
       "  background-color: var(--sklearn-color-fitted-level-2);\n",
       "}\n",
       "\n",
       "/* Specification for estimator info (e.g. \"i\" and \"?\") */\n",
       "\n",
       "/* Common style for \"i\" and \"?\" */\n",
       "\n",
       ".sk-estimator-doc-link,\n",
       "a:link.sk-estimator-doc-link,\n",
       "a:visited.sk-estimator-doc-link {\n",
       "  float: right;\n",
       "  font-size: smaller;\n",
       "  line-height: 1em;\n",
       "  font-family: monospace;\n",
       "  background-color: var(--sklearn-color-background);\n",
       "  border-radius: 1em;\n",
       "  height: 1em;\n",
       "  width: 1em;\n",
       "  text-decoration: none !important;\n",
       "  margin-left: 0.5em;\n",
       "  text-align: center;\n",
       "  /* unfitted */\n",
       "  border: var(--sklearn-color-unfitted-level-1) 1pt solid;\n",
       "  color: var(--sklearn-color-unfitted-level-1);\n",
       "}\n",
       "\n",
       ".sk-estimator-doc-link.fitted,\n",
       "a:link.sk-estimator-doc-link.fitted,\n",
       "a:visited.sk-estimator-doc-link.fitted {\n",
       "  /* fitted */\n",
       "  border: var(--sklearn-color-fitted-level-1) 1pt solid;\n",
       "  color: var(--sklearn-color-fitted-level-1);\n",
       "}\n",
       "\n",
       "/* On hover */\n",
       "div.sk-estimator:hover .sk-estimator-doc-link:hover,\n",
       ".sk-estimator-doc-link:hover,\n",
       "div.sk-label-container:hover .sk-estimator-doc-link:hover,\n",
       ".sk-estimator-doc-link:hover {\n",
       "  /* unfitted */\n",
       "  background-color: var(--sklearn-color-unfitted-level-3);\n",
       "  color: var(--sklearn-color-background);\n",
       "  text-decoration: none;\n",
       "}\n",
       "\n",
       "div.sk-estimator.fitted:hover .sk-estimator-doc-link.fitted:hover,\n",
       ".sk-estimator-doc-link.fitted:hover,\n",
       "div.sk-label-container:hover .sk-estimator-doc-link.fitted:hover,\n",
       ".sk-estimator-doc-link.fitted:hover {\n",
       "  /* fitted */\n",
       "  background-color: var(--sklearn-color-fitted-level-3);\n",
       "  color: var(--sklearn-color-background);\n",
       "  text-decoration: none;\n",
       "}\n",
       "\n",
       "/* Span, style for the box shown on hovering the info icon */\n",
       ".sk-estimator-doc-link span {\n",
       "  display: none;\n",
       "  z-index: 9999;\n",
       "  position: relative;\n",
       "  font-weight: normal;\n",
       "  right: .2ex;\n",
       "  padding: .5ex;\n",
       "  margin: .5ex;\n",
       "  width: min-content;\n",
       "  min-width: 20ex;\n",
       "  max-width: 50ex;\n",
       "  color: var(--sklearn-color-text);\n",
       "  box-shadow: 2pt 2pt 4pt #999;\n",
       "  /* unfitted */\n",
       "  background: var(--sklearn-color-unfitted-level-0);\n",
       "  border: .5pt solid var(--sklearn-color-unfitted-level-3);\n",
       "}\n",
       "\n",
       ".sk-estimator-doc-link.fitted span {\n",
       "  /* fitted */\n",
       "  background: var(--sklearn-color-fitted-level-0);\n",
       "  border: var(--sklearn-color-fitted-level-3);\n",
       "}\n",
       "\n",
       ".sk-estimator-doc-link:hover span {\n",
       "  display: block;\n",
       "}\n",
       "\n",
       "/* \"?\"-specific style due to the `<a>` HTML tag */\n",
       "\n",
       "#sk-container-id-1 a.estimator_doc_link {\n",
       "  float: right;\n",
       "  font-size: 1rem;\n",
       "  line-height: 1em;\n",
       "  font-family: monospace;\n",
       "  background-color: var(--sklearn-color-background);\n",
       "  border-radius: 1rem;\n",
       "  height: 1rem;\n",
       "  width: 1rem;\n",
       "  text-decoration: none;\n",
       "  /* unfitted */\n",
       "  color: var(--sklearn-color-unfitted-level-1);\n",
       "  border: var(--sklearn-color-unfitted-level-1) 1pt solid;\n",
       "}\n",
       "\n",
       "#sk-container-id-1 a.estimator_doc_link.fitted {\n",
       "  /* fitted */\n",
       "  border: var(--sklearn-color-fitted-level-1) 1pt solid;\n",
       "  color: var(--sklearn-color-fitted-level-1);\n",
       "}\n",
       "\n",
       "/* On hover */\n",
       "#sk-container-id-1 a.estimator_doc_link:hover {\n",
       "  /* unfitted */\n",
       "  background-color: var(--sklearn-color-unfitted-level-3);\n",
       "  color: var(--sklearn-color-background);\n",
       "  text-decoration: none;\n",
       "}\n",
       "\n",
       "#sk-container-id-1 a.estimator_doc_link.fitted:hover {\n",
       "  /* fitted */\n",
       "  background-color: var(--sklearn-color-fitted-level-3);\n",
       "}\n",
       "</style><div id=\"sk-container-id-1\" class=\"sk-top-container\"><div class=\"sk-text-repr-fallback\"><pre>LogisticRegression(max_iter=1000)</pre><b>In a Jupyter environment, please rerun this cell to show the HTML representation or trust the notebook. <br />On GitHub, the HTML representation is unable to render, please try loading this page with nbviewer.org.</b></div><div class=\"sk-container\" hidden><div class=\"sk-item\"><div class=\"sk-estimator fitted sk-toggleable\"><input class=\"sk-toggleable__control sk-hidden--visually\" id=\"sk-estimator-id-1\" type=\"checkbox\" checked><label for=\"sk-estimator-id-1\" class=\"sk-toggleable__label fitted sk-toggleable__label-arrow\"><div><div>LogisticRegression</div></div><div><a class=\"sk-estimator-doc-link fitted\" rel=\"noreferrer\" target=\"_blank\" href=\"https://scikit-learn.org/1.6/modules/generated/sklearn.linear_model.LogisticRegression.html\">?<span>Documentation for LogisticRegression</span></a><span class=\"sk-estimator-doc-link fitted\">i<span>Fitted</span></span></div></label><div class=\"sk-toggleable__content fitted\"><pre>LogisticRegression(max_iter=1000)</pre></div> </div></div></div></div>"
      ],
      "text/plain": [
       "LogisticRegression(max_iter=1000)"
      ]
     },
     "execution_count": 5,
     "metadata": {},
     "output_type": "execute_result"
    }
   ],
   "source": [
    "from sklearn.feature_extraction.text import TfidfVectorizer\n",
    "from sklearn.linear_model import LogisticRegression\n",
    "from sklearn.model_selection import train_test_split\n",
    "from imblearn.over_sampling import RandomOverSampler\n",
    "\n",
    "vectorizer = TfidfVectorizer(max_features=3000)\n",
    "X = vectorizer.fit_transform(df['clean_text'])\n",
    "y = df['label']\n",
    "\n",
    "ros = RandomOverSampler()\n",
    "X_resampled, y_resampled = ros.fit_resample(X, y)\n",
    "\n",
    "X_train, X_test, y_train, y_test = train_test_split(X_resampled, y_resampled, test_size=0.2, random_state=42)\n",
    "\n",
    "model = LogisticRegression(max_iter=1000)\n",
    "model.fit(X_train, y_train)\n"
   ]
  },
  {
   "cell_type": "code",
   "execution_count": 6,
   "id": "fbd55723",
   "metadata": {},
   "outputs": [
    {
     "name": "stdout",
     "output_type": "stream",
     "text": [
      "Label: 1, Confidence: 0.85\n"
     ]
    }
   ],
   "source": [
    "def predict_sentiment(text, threshold=0.6):\n",
    "    processed = preprocess(text)\n",
    "    vectorized = vectorizer.transform([processed])\n",
    "    prob = model.predict_proba(vectorized)[0][1]\n",
    "    return int(prob >= threshold), prob\n",
    "\n",
    "# Exemplo de teste\n",
    "text = \"I loved the leadership and career opportunities.\"\n",
    "label, prob = predict_sentiment(text)\n",
    "print(f\"Label: {label}, Confidence: {prob:.2f}\")\n"
   ]
  },
  {
   "cell_type": "markdown",
   "id": "3187306c",
   "metadata": {},
   "source": [
    "### Modelagem e Classificação"
   ]
  },
  {
   "cell_type": "code",
   "execution_count": 7,
   "id": "91abb8a5",
   "metadata": {},
   "outputs": [
    {
     "name": "stdout",
     "output_type": "stream",
     "text": [
      "              precision    recall  f1-score   support\n",
      "\n",
      "           0       0.85      0.90      0.87      2417\n",
      "           1       0.89      0.84      0.87      2449\n",
      "\n",
      "    accuracy                           0.87      4866\n",
      "   macro avg       0.87      0.87      0.87      4866\n",
      "weighted avg       0.87      0.87      0.87      4866\n",
      "\n"
     ]
    }
   ],
   "source": [
    "from sklearn.linear_model import LogisticRegression\n",
    "from sklearn.metrics import classification_report\n",
    "\n",
    "# Criação e treinamento do modelo\n",
    "model = LogisticRegression(max_iter=1000, class_weight='balanced', random_state=42)\n",
    "model.fit(X_train, y_train)\n",
    "\n",
    "# Predição e avaliação\n",
    "y_pred = model.predict(X_test)\n",
    "print(classification_report(y_test, y_pred))\n"
   ]
  },
  {
   "cell_type": "markdown",
   "id": "2018d796",
   "metadata": {},
   "source": [
    "### Simular Novos Reviews"
   ]
  },
  {
   "cell_type": "code",
   "execution_count": 8,
   "id": "d3729ae6",
   "metadata": {},
   "outputs": [
    {
     "name": "stdout",
     "output_type": "stream",
     "text": [
      "Texto limpo: team collaborative worklife balance great\n",
      "Vetorizado: [[0. 0. 0. ... 0. 0. 0.]]\n",
      "Probabilidade da classe positiva: 0.9805\n",
      "Predição (com threshold=0.5): 1\n",
      "Positivo\n",
      "\n",
      "Texto limpo: bad place work\n",
      "Vetorizado: [[0. 0. 0. ... 0. 0. 0.]]\n",
      "Probabilidade da classe positiva: 0.3889\n",
      "Predição (com threshold=0.5): 0\n",
      "Negativo\n"
     ]
    }
   ],
   "source": [
    "def predict_review(text, threshold=0.5):\n",
    "    clean = preprocess(text)\n",
    "    print(f\"Texto limpo: {clean}\")\n",
    "\n",
    "    vec = vectorizer.transform([clean])\n",
    "    print(f\"Vetorizado: {vec.toarray()}\")\n",
    "\n",
    "    prob = model.predict_proba(vec)[0][1]  # Probabilidade de ser classe 1\n",
    "    print(f\"Probabilidade da classe positiva: {prob:.4f}\")\n",
    "\n",
    "    prediction = 1 if prob >= threshold else 0\n",
    "    print(f\"Predição (com threshold={threshold}): {prediction}\")\n",
    "\n",
    "    return \"Positivo\" if prediction == 1 else \"Negativo\"\n",
    "\n",
    "# Exemplo de uso\n",
    "print(predict_review(\"The team is very collaborative, and the work-life balance is great.\"))\n",
    "print()\n",
    "print(predict_review(\"It is a bad place to work\"))\n"
   ]
  },
  {
   "cell_type": "code",
   "execution_count": null,
   "id": "d80f6bdc",
   "metadata": {},
   "outputs": [],
   "source": [
    "#Salvando os documentos\n",
    "\n",
    "import joblib\n",
    "\n",
    "joblib.dump(model, \"modelo_sentimento.pkl\")\n",
    "joblib.dump(vectorizer, \"vetor_sentimento.pkl\")\n",
    "df.to_csv(\"modelo_tradicional.csv\", index=False)\n"
   ]
  },
  {
   "cell_type": "code",
   "execution_count": 10,
   "id": "b03442ba",
   "metadata": {},
   "outputs": [
    {
     "name": "stdout",
     "output_type": "stream",
     "text": [
      "Index(['Unnamed: 0', 'company', 'location', 'dates', 'job-title', 'summary',\n",
      "       'pros', 'cons', 'advice-to-mgmt', 'overall-ratings',\n",
      "       'work-balance-stars', 'culture-values-stars',\n",
      "       'carrer-opportunities-stars', 'comp-benefit-stars',\n",
      "       'senior-mangemnet-stars', 'helpful-count', 'link', 'text', 'clean_text',\n",
      "       'label'],\n",
      "      dtype='object')\n"
     ]
    }
   ],
   "source": [
    "print(df.columns)\n"
   ]
  },
  {
   "cell_type": "markdown",
   "id": "91721e66",
   "metadata": {},
   "source": [
    "### Visualização e Interface"
   ]
  },
  {
   "cell_type": "code",
   "execution_count": 11,
   "id": "41e52ce2",
   "metadata": {},
   "outputs": [
    {
     "name": "stderr",
     "output_type": "stream",
     "text": [
      "c:\\Users\\rrs4_cesar\\Desktop\\Microsoft_Review\\venv\\Lib\\site-packages\\tqdm\\auto.py:21: TqdmWarning: IProgress not found. Please update jupyter and ipywidgets. See https://ipywidgets.readthedocs.io/en/stable/user_install.html\n",
      "  from .autonotebook import tqdm as notebook_tqdm\n",
      "[nltk_data] Downloading package punkt to\n",
      "[nltk_data]     C:\\Users\\rrs4_cesar\\AppData\\Roaming\\nltk_data...\n",
      "[nltk_data]   Package punkt is already up-to-date!\n",
      "[nltk_data] Downloading package stopwords to\n",
      "[nltk_data]     C:\\Users\\rrs4_cesar\\AppData\\Roaming\\nltk_data...\n",
      "[nltk_data]   Package stopwords is already up-to-date!\n",
      "[nltk_data] Downloading package wordnet to\n",
      "[nltk_data]     C:\\Users\\rrs4_cesar\\AppData\\Roaming\\nltk_data...\n",
      "[nltk_data]   Package wordnet is already up-to-date!\n"
     ]
    },
    {
     "name": "stdout",
     "output_type": "stream",
     "text": [
      "* Running on local URL:  http://127.0.0.1:7860\n",
      "* To create a public link, set `share=True` in `launch()`.\n"
     ]
    },
    {
     "data": {
      "text/html": [
       "<div><iframe src=\"http://127.0.0.1:7860/\" width=\"100%\" height=\"500\" allow=\"autoplay; camera; microphone; clipboard-read; clipboard-write;\" frameborder=\"0\" allowfullscreen></iframe></div>"
      ],
      "text/plain": [
       "<IPython.core.display.HTML object>"
      ]
     },
     "metadata": {},
     "output_type": "display_data"
    }
   ],
   "source": [
    "import gradio as gr\n",
    "import joblib\n",
    "import nltk\n",
    "from nltk.corpus import stopwords\n",
    "from nltk.stem import WordNetLemmatizer\n",
    "from nltk.tokenize import word_tokenize\n",
    "import string\n",
    "\n",
    "\n",
    "\n",
    "model = joblib.load(\"modelo_sentimento.pkl\")\n",
    "tfidf = joblib.load(\"vetorizador_tfidf.pkl\")\n",
    "\n",
    "nltk.download('punkt')\n",
    "nltk.download('stopwords')\n",
    "nltk.download('wordnet')\n",
    "\n",
    "\n",
    "def preprocess(text):\n",
    "    lemmatizer = WordNetLemmatizer()\n",
    "    tokens = word_tokenize(text.lower())\n",
    "    tokens = [t for t in tokens if t not in string.punctuation]\n",
    "    tokens = [t for t in tokens if t not in stopwords.words('english')]\n",
    "    tokens = [lemmatizer.lemmatize(t) for t in tokens]\n",
    "    return ' '.join(tokens)\n",
    "\n",
    "\n",
    "def classificar_review(review_text):\n",
    "    texto_limpo = preprocess(review_text)\n",
    "    vetor = tfidf.transform([texto_limpo])\n",
    "    pred = model.predict(vetor)[0]\n",
    "    prob = model.predict_proba(vetor).max()\n",
    "    return f\"Sentimento: {'Positivo' if pred == 1 else 'Negativo'} (confiança: {prob:.2f})\"\n",
    "\n",
    "# Interface com Gradio\n",
    "demo = gr.Interface(\n",
    "    fn=classificar_review,\n",
    "    inputs=gr.Textbox(lines=5, label=\"Digite um review da Microsoft\"),\n",
    "    outputs=gr.Textbox(label=\"Resultado da Classificação\"),\n",
    "    title=\"Classificador de Reviews - Microsoft\",\n",
    "    description=\"Este modelo classifica automaticamente se um review é positivo ou negativo com base em PLN.\"\n",
    ")\n",
    "\n",
    "if __name__ == \"__main__\":\n",
    "    demo.launch()\n"
   ]
  },
  {
   "cell_type": "markdown",
   "id": "b8795d59",
   "metadata": {},
   "source": [
    "## Modelo pré-treinado com Hugging Face"
   ]
  },
  {
   "cell_type": "code",
   "execution_count": 12,
   "id": "d8550f58",
   "metadata": {},
   "outputs": [
    {
     "name": "stderr",
     "output_type": "stream",
     "text": [
      "Device set to use cpu\n",
      "100%|██████████| 17930/17930 [13:39<00:00, 21.89it/s]\n"
     ]
    },
    {
     "name": "stdout",
     "output_type": "stream",
     "text": [
      "                                                text sentiment_huggingface\n",
      "0  Culture, role impact, mission driven, collabor...              NEGATIVE\n",
      "1  1. If you love tech, this is a great place. No...              POSITIVE\n",
      "2  Great company and Great people I see no cons a...              POSITIVE\n",
      "3  Benefits, work-life balance, tons of internal ...              POSITIVE\n",
      "4  Smart people, work life balance, growth mindse...              POSITIVE\n"
     ]
    }
   ],
   "source": [
    "import pandas as pd\n",
    "from transformers import pipeline\n",
    "from tqdm import tqdm\n",
    "\n",
    "# Carrega o dataset\n",
    "df = pd.read_csv(\"employee_reviews.csv\")\n",
    "\n",
    "# Filtrando as avaliações da Microsoft\n",
    "df = df[df['company'].str.lower() == 'microsoft'].reset_index(drop=True)\n",
    "\n",
    "df.columns\n",
    "\n",
    "# Junta pros e cons em uma coluna só se necessário\n",
    "df['text'] = df['pros'].fillna('') + ' ' + df['cons'].fillna('')\n",
    "\n",
    "# Carrega modelo de análise de sentimentos\n",
    "sentiment_model = pipeline(\"sentiment-analysis\", model=\"distilbert-base-uncased-finetuned-sst-2-english\")\n",
    "\n",
    "# Cria coluna de sentimentos com tqdm para mostrar progresso\n",
    "tqdm.pandas()  # habilita barra de progresso\n",
    "\n",
    "def classify_sentiment(text):\n",
    "    result = sentiment_model(text[:512])[0]  # truncando se muito longo\n",
    "    return result['label']\n",
    "\n",
    "df['sentiment_huggingface'] = df['text'].progress_apply(classify_sentiment)\n",
    "\n",
    "# Visualiza os primeiros resultados\n",
    "print(df[['text', 'sentiment_huggingface']].head())\n",
    "\n",
    "# (Opcional) salva como novo CSV\n",
    "df.to_csv(\"modelo_huggingface.csv\", index=False)\n"
   ]
  },
  {
   "cell_type": "markdown",
   "id": "f33dded6",
   "metadata": {},
   "source": [
    "### Exibindo os resultados:"
   ]
  },
  {
   "cell_type": "code",
   "execution_count": 13,
   "id": "b51e0067",
   "metadata": {},
   "outputs": [
    {
     "name": "stdout",
     "output_type": "stream",
     "text": [
      "\n",
      "Exemplos de avaliações positivas:\n",
      "1    1. If you love tech, this is a great place. No...\n",
      "2    Great company and Great people I see no cons a...\n",
      "3    Benefits, work-life balance, tons of internal ...\n",
      "4    Smart people, work life balance, growth mindse...\n",
      "5    Challenging work and collaboration with brilli...\n",
      "Name: text, dtype: object\n",
      "\n",
      "Exemplos de avaliações negativas:\n",
      "0     Culture, role impact, mission driven, collabor...\n",
      "17    Fantastic benefits, perks, and connections. Mi...\n",
      "18    Clarity of work, growth, smart coworkers, bene...\n",
      "20    Help people work safely in the field. Start ve...\n",
      "22    Benefits for part time employees, education op...\n",
      "Name: text, dtype: object\n"
     ]
    }
   ],
   "source": [
    "# Exemplo de comentários positivos\n",
    "print(\"\\nExemplos de avaliações positivas:\")\n",
    "print(df[df['sentiment_huggingface'] == 'POSITIVE']['text'].head())\n",
    "\n",
    "# Exemplo de comentários negativos\n",
    "print(\"\\nExemplos de avaliações negativas:\")\n",
    "print(df[df['sentiment_huggingface'] == 'NEGATIVE']['text'].head())\n"
   ]
  },
  {
   "cell_type": "code",
   "execution_count": 14,
   "id": "127fac1e",
   "metadata": {},
   "outputs": [
    {
     "data": {
      "image/png": "[encoded data removed]",
      "text/plain": [
       "<Figure size 640x480 with 1 Axes>"
      ]
     },
     "metadata": {},
     "output_type": "display_data"
    }
   ],
   "source": [
    "import seaborn as sns\n",
    "import matplotlib.pyplot as plt\n",
    "\n",
    "sns.countplot(data=df, x='sentiment_huggingface')\n",
    "plt.title(\"Distribuição de sentimentos (modelo Hugging Face)\")\n",
    "plt.show()\n"
   ]
  },
  {
   "cell_type": "markdown",
   "id": "882e319c",
   "metadata": {},
   "source": [
    "## Aplicar o modelo"
   ]
  },
  {
   "cell_type": "code",
   "execution_count": 17,
   "id": "f6cfbd12",
   "metadata": {},
   "outputs": [
    {
     "name": "stdout",
     "output_type": "stream",
     "text": [
      "                                                text sentiment_huggingface  \\\n",
      "0  Culture, role impact, mission driven, collabor...              NEGATIVE   \n",
      "1  1. If you love tech, this is a great place. No...              POSITIVE   \n",
      "2  Great company and Great people I see no cons a...              POSITIVE   \n",
      "3  Benefits, work-life balance, tons of internal ...              POSITIVE   \n",
      "4  Smart people, work life balance, growth mindse...              POSITIVE   \n",
      "\n",
      "   sentiment_tradicional  \n",
      "0                      1  \n",
      "1                      0  \n",
      "2                      1  \n",
      "3                      1  \n",
      "4                      1  \n"
     ]
    }
   ],
   "source": [
    "import joblib\n",
    "\n",
    "# Carrega os dados com sentimentos do Hugging Face\n",
    "df = pd.read_csv(\"modelo_huggingface.csv\")\n",
    "\n",
    "# Carrega o modelo tradicional e o vetor\n",
    "modelo = joblib.load(\"modelo_sentimento.pkl\")\n",
    "vetor = joblib.load(\"vetor_sentimento.pkl\")\n",
    "\n",
    "# Aplica o modelo tradicional\n",
    "X_novo = vetor.transform(df['text'])\n",
    "df['sentiment_tradicional'] = modelo.predict(X_novo)\n",
    "\n",
    "# Salva com os dois sentimentos\n",
    "df.to_csv(\"modelo_com_sentimentos.csv\", index=False)\n",
    "\n",
    "# Verifica\n",
    "print(df[['text', 'sentiment_huggingface', 'sentiment_tradicional']].head())\n"
   ]
  },
  {
   "cell_type": "markdown",
   "id": "6a662519",
   "metadata": {},
   "source": [
    "## COMPARAÇÃO ENTRE OS MODELOS:"
   ]
  },
  {
   "cell_type": "code",
   "execution_count": 28,
   "id": "79860604",
   "metadata": {},
   "outputs": [],
   "source": [
    "#padronizando os modelos\n",
    "\n",
    "df['sentiment_tradicional'] = df['sentiment_tradicional'].astype(str).str.lower()\n",
    "df['sentiment_huggingface'] = df['sentiment_huggingface'].astype(str).str.lower()\n",
    "# Mapeia '1' para 'positive' e '0' para 'negative'\n",
    "df['sentiment_tradicional'] = df['sentiment_tradicional'].map({'1': 'positive', '0': 'negative'})\n",
    "\n",
    "\n"
   ]
  },
  {
   "cell_type": "code",
   "execution_count": 29,
   "id": "e81a83cf",
   "metadata": {},
   "outputs": [
    {
     "name": "stdout",
     "output_type": "stream",
     "text": [
      "Os modelos concordam em 64.93% dos casos.\n",
      "concordam\n",
      "True     11642\n",
      "False     6288\n",
      "Name: count, dtype: int64\n"
     ]
    }
   ],
   "source": [
    "# Compara se as classificações foram iguais\n",
    "df['concordam'] = df['sentiment_huggingface'] == df['sentiment_tradicional']\n",
    "\n",
    "# Percentual de concordância\n",
    "concordancia = df['concordam'].mean() * 100\n",
    "print(f\"Os modelos concordam em {concordancia:.2f}% dos casos.\")\n",
    "\n",
    "# Contagem absoluta\n",
    "print(df['concordam'].value_counts())\n"
   ]
  },
  {
   "cell_type": "code",
   "execution_count": 32,
   "id": "a37b5f43",
   "metadata": {},
   "outputs": [
    {
     "name": "stdout",
     "output_type": "stream",
     "text": [
      "sentiment_tradicional  negative  positive\n",
      "sentiment_huggingface                    \n",
      "negative                   2843      4189\n",
      "positive                   2099      8799\n"
     ]
    }
   ],
   "source": [
    "# Tabela cruzada\n",
    "tabela = pd.crosstab(df['sentiment_huggingface'], df['sentiment_tradicional'])\n",
    "print(tabela)\n"
   ]
  },
  {
   "cell_type": "code",
   "execution_count": 33,
   "id": "d2c3d2d4",
   "metadata": {},
   "outputs": [
    {
     "data": {
      "image/png": "[encoded data removed]",
      "text/plain": [
       "<Figure size 800x600 with 1 Axes>"
      ]
     },
     "metadata": {},
     "output_type": "display_data"
    }
   ],
   "source": [
    "\n",
    "tabela.plot(kind='bar', figsize=(8, 6))\n",
    "plt.title('Comparação entre modelos: Hugging Face x Tradicional')\n",
    "plt.xlabel('Sentimento - Hugging Face')\n",
    "plt.ylabel('Contagem (por sentimento Tradicional)')\n",
    "plt.xticks(rotation=0)\n",
    "plt.legend(title='Tradicional')\n",
    "plt.tight_layout()\n",
    "plt.show()\n"
   ]
  },
  {
   "cell_type": "code",
   "execution_count": 34,
   "id": "34a5f915",
   "metadata": {},
   "outputs": [
    {
     "name": "stdout",
     "output_type": "stream",
     "text": [
      "                                                 text sentiment_huggingface  \\\n",
      "0   Culture, role impact, mission driven, collabor...              negative   \n",
      "1   1. If you love tech, this is a great place. No...              positive   \n",
      "5   Challenging work and collaboration with brilli...              positive   \n",
      "18  Clarity of work, growth, smart coworkers, bene...              negative   \n",
      "20  Help people work safely in the field. Start ve...              negative   \n",
      "\n",
      "   sentiment_tradicional  \n",
      "0               positive  \n",
      "1               negative  \n",
      "5               negative  \n",
      "18              positive  \n",
      "20              positive  \n"
     ]
    }
   ],
   "source": [
    "# Mostra os 5 primeiros casos de discordância\n",
    "discordantes = df[df['sentiment_huggingface'] != df['sentiment_tradicional']]\n",
    "print(discordantes[['text', 'sentiment_huggingface', 'sentiment_tradicional']].head())\n"
   ]
  }
 ],
 "metadata": {
  "kernelspec": {
   "display_name": "venv",
   "language": "python",
   "name": "python3"
  },
  "language_info": {
   "codemirror_mode": {
    "name": "ipython",
    "version": 3
   },
   "file_extension": ".py",
   "mimetype": "text/x-python",
   "name": "python",
   "nbconvert_exporter": "python",
   "pygments_lexer": "ipython3",
   "version": "3.13.3"
  }
 },
 "nbformat": 4,
 "nbformat_minor": 5
}
